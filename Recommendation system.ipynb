{
 "cells": [
  {
   "cell_type": "markdown",
   "id": "03f96c34-e125-4b3f-a305-941f57415b22",
   "metadata": {},
   "source": [
    "NAME : K.SHAHANA"
   ]
  },
  {
   "cell_type": "markdown",
   "id": "f81740b0-4e30-4622-9f71-ca3a3254068a",
   "metadata": {},
   "source": [
    "DEPT : AI & DS"
   ]
  },
  {
   "cell_type": "markdown",
   "id": "bfd3f6e9-25eb-42f4-b99d-53d68c486a96",
   "metadata": {},
   "source": [
    "TASK NAME : RECOMMENDATION SYSTEM "
   ]
  },
  {
   "cell_type": "markdown",
   "id": "5ccf46e7-e446-43dd-aeee-b340c9cf2e54",
   "metadata": {},
   "source": [
    "Create Movie dataset"
   ]
  },
  {
   "cell_type": "code",
   "execution_count": 1,
   "id": "ee44d4ce-6aef-4e91-9dd3-848b0481864c",
   "metadata": {
    "scrolled": true
   },
   "outputs": [],
   "source": [
    "\n",
    "movies = [\n",
    "    {\"title\": \"Soorarai Pottru\", \"genre\": \"Drama\", \"actors\": [\"Suriya\", \"Aparna Balamurali\"]},\n",
    "    {\"title\": \"Master\", \"genre\": \"Action\", \"actors\": [\"Vijay\", \"Vijay Sethupathi\"]},\n",
    "    {\"title\": \"Kaithi\", \"genre\": \"Action\", \"actors\": [\"Karthi\"]},\n",
    "    {\"title\": \"96\", \"genre\": \"Romance\", \"actors\": [\"Vijay Sethupathi\", \"Trisha\"]},\n",
    "    {\"title\": \"Petta\", \"genre\": \"Action\", \"actors\": [\"Rajinikanth\", \"Vijay Sethupathi\"]},\n",
    "    {\"title\": \"Asuran\", \"genre\": \"Drama\", \"actors\": [\"Dhanush\"]},\n",
    "    {\"title\": \"Bigil\", \"genre\": \"Sports\", \"actors\": [\"Vijay\", \"Nayanthara\"]},\n",
    "    {\"title\": \"Super Deluxe\", \"genre\": \"Drama\", \"actors\": [\"Vijay Sethupathi\", \"Fahadh Faasil\"]},\n",
    "    {\"title\": \"Mersal\", \"genre\": \"Action\", \"actors\": [\"Vijay\", \"Samantha\"]},\n",
    "    {\"title\": \"Kabali\", \"genre\": \"Drama\", \"actors\": [\"Rajinikanth\", \"Radhika Apte\"]},\n",
    "]\n"
   ]
  },
  {
   "cell_type": "markdown",
   "id": "87dd887c-0444-4bfb-8e35-de3d61d06ad2",
   "metadata": {},
   "source": [
    " User Preferences"
   ]
  },
  {
   "cell_type": "code",
   "execution_count": 15,
   "id": "9eb8f838-605e-42db-9199-87d2ec28ca5b",
   "metadata": {},
   "outputs": [],
   "source": [
    "\n",
    "user_preferences = {\n",
    "    \"genre\": \"Action\",\n",
    "    \"actors\": [\"Vijay\"]\n",
    "}\n"
   ]
  },
  {
   "cell_type": "markdown",
   "id": "11ee9042-386e-449c-b7f0-a108f668af5d",
   "metadata": {},
   "source": [
    "Make Scoring Fuction"
   ]
  },
  {
   "cell_type": "code",
   "execution_count": 16,
   "id": "944e18e3-0994-40e0-b334-4dfcccfa8a3a",
   "metadata": {},
   "outputs": [],
   "source": [
    "def calculate_score(movie, preferences):\n",
    "    score = 0\n",
    "    \n",
    "    if movie[\"genre\"] == preferences[\"genre\"]:\n",
    "        score += 1\n",
    "    \n",
    "    for actor in movie[\"actors\"]:\n",
    "        if actor in preferences[\"actors\"]:\n",
    "            score += 1\n",
    "    \n",
    "    return score\n"
   ]
  },
  {
   "cell_type": "markdown",
   "id": "ac3ac1d7-4959-4892-a6fa-2867c7627da0",
   "metadata": {},
   "source": [
    "Generate Recommendations"
   ]
  },
  {
   "cell_type": "code",
   "execution_count": 17,
   "id": "c5e7b97a-0b69-46ee-aaeb-e0cc64cb55d9",
   "metadata": {},
   "outputs": [],
   "source": [
    "def recommend_movies(movies, preferences):\n",
    "    scored_movies = []\n",
    "    for movie in movies:\n",
    "        score = calculate_score(movie, preferences)\n",
    "        scored_movies.append((movie[\"title\"], score))\n",
    "    scored_movies = sorted(scored_movies, key=lambda x: x[1], reverse=True)\n",
    "    \n",
    "   \n",
    "    recommended_movies = [title for title, score in scored_movies if score > 0]\n",
    "    \n",
    "    return recommended_movies\n"
   ]
  },
  {
   "cell_type": "markdown",
   "id": "34765cf9-bb6e-4d0b-868e-47111916230b",
   "metadata": {},
   "source": [
    "Display Recommendations"
   ]
  },
  {
   "cell_type": "code",
   "execution_count": 18,
   "id": "0e6e46cc-e458-4911-bfe5-af713abeb2b3",
   "metadata": {},
   "outputs": [
    {
     "name": "stdout",
     "output_type": "stream",
     "text": [
      "Recommended Movies:\n",
      "Master\n",
      "Mersal\n",
      "Kaithi\n",
      "Petta\n",
      "Bigil\n"
     ]
    }
   ],
   "source": [
    "\n",
    "recommended_movies = recommend_movies(movies, user_preferences)\n",
    "\n",
    "print(\"Recommended Movies:\")\n",
    "for movie in recommended_movies:\n",
    "    print(movie)\n"
   ]
  },
  {
   "cell_type": "code",
   "execution_count": null,
   "id": "2df48279-90d0-4463-80e0-8901ede7c7ca",
   "metadata": {},
   "outputs": [],
   "source": []
  },
  {
   "cell_type": "code",
   "execution_count": null,
   "id": "b92e1bf0-cd28-4bb8-af6c-3b0deb521e24",
   "metadata": {},
   "outputs": [],
   "source": []
  }
 ],
 "metadata": {
  "kernelspec": {
   "display_name": "Python 3 (ipykernel)",
   "language": "python",
   "name": "python3"
  },
  "language_info": {
   "codemirror_mode": {
    "name": "ipython",
    "version": 3
   },
   "file_extension": ".py",
   "mimetype": "text/x-python",
   "name": "python",
   "nbconvert_exporter": "python",
   "pygments_lexer": "ipython3",
   "version": "3.12.3"
  }
 },
 "nbformat": 4,
 "nbformat_minor": 5
}
